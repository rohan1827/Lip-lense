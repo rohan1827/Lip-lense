{
  "nbformat": 4,
  "nbformat_minor": 0,
  "metadata": {
    "colab": {
      "provenance": [],
      "gpuType": "T4",
      "authorship_tag": "ABX9TyO40Yco3C0luiBHhMn01OAW",
      "include_colab_link": true
    },
    "kernelspec": {
      "name": "python3",
      "display_name": "Python 3"
    },
    "language_info": {
      "name": "python"
    },
    "accelerator": "GPU"
  },
  "cells": [
    {
      "cell_type": "markdown",
      "metadata": {
        "id": "view-in-github",
        "colab_type": "text"
      },
      "source": [
        "<a href=\"https://colab.research.google.com/github/rohan1827/Lip-lense/blob/develop/Liplense_Preprocessing.ipynb\" target=\"_parent\"><img src=\"https://colab.research.google.com/assets/colab-badge.svg\" alt=\"Open In Colab\"/></a>"
      ]
    },
    {
      "cell_type": "code",
      "execution_count": 45,
      "metadata": {
        "id": "cQoXF8VkbGa8"
      },
      "outputs": [],
      "source": [
        "import tensorflow as tf\n",
        "import numpy as np\n",
        "import matplotlib.pyplot as plt\n",
        "from typing import List\n",
        "import imageio\n",
        "import cv2\n",
        "#"
      ]
    },
    {
      "cell_type": "code",
      "source": [
        "import os"
      ],
      "metadata": {
        "id": "-wIF0PVmcPn4"
      },
      "execution_count": 27,
      "outputs": []
    },
    {
      "cell_type": "code",
      "source": [
        "# tf.config.list_physical_devices('GPU')\n"
      ],
      "metadata": {
        "colab": {
          "base_uri": "https://localhost:8080/"
        },
        "id": "aJ3P_3bNcF0q",
        "outputId": "247942a4-b923-47cf-b527-1fad8fe52862"
      },
      "execution_count": 4,
      "outputs": [
        {
          "output_type": "execute_result",
          "data": {
            "text/plain": [
              "[PhysicalDevice(name='/physical_device:GPU:0', device_type='GPU')]"
            ]
          },
          "metadata": {},
          "execution_count": 4
        }
      ]
    },
    {
      "cell_type": "code",
      "source": [
        "# if GPU is available\n",
        "# tf.config.experimental.set_memory_growth(tf.config.list_physical_devices('GPU')[0], True)\n"
      ],
      "metadata": {
        "id": "cJcp8hTzcJ3o"
      },
      "execution_count": 5,
      "outputs": []
    },
    {
      "cell_type": "code",
      "source": [],
      "metadata": {
        "id": "J4qw6C4fdOzN"
      },
      "execution_count": null,
      "outputs": []
    },
    {
      "cell_type": "code",
      "source": [],
      "metadata": {
        "id": "ECtCsLZlhAMT"
      },
      "execution_count": null,
      "outputs": []
    },
    {
      "cell_type": "code",
      "source": [
        "# from google.colab import drive\n",
        "# drive.mount('/content/drive')\n",
        "# import shutil\n",
        "# import zipfile\n",
        "# import os\n",
        "\n",
        "# zip_file_path = '/content/drive/MyDrive/videos1.zip'  # Update the path\n",
        "\n",
        "# extract_to = '/content/extracted_files'\n",
        "\n",
        "# os.makedirs(extract_to, exist_ok=True)\n",
        "\n",
        "# with zipfile.ZipFile(zip_file_path, 'r') as zip_ref:\n",
        "#     zip_ref.extractall(extract_to)\n",
        "\n",
        "# print(f'Files extracted to: {extract_to}')\n"
      ],
      "metadata": {
        "colab": {
          "base_uri": "https://localhost:8080/"
        },
        "id": "8-_uXwfApEBJ",
        "outputId": "58cd83cd-dc3f-45e1-d9c0-b7020acff93d"
      },
      "execution_count": null,
      "outputs": [
        {
          "output_type": "stream",
          "name": "stdout",
          "text": [
            "Mounted at /content/drive\n"
          ]
        }
      ]
    },
    {
      "cell_type": "code",
      "source": [],
      "metadata": {
        "id": "KOpaogpCB1ka"
      },
      "execution_count": null,
      "outputs": []
    },
    {
      "cell_type": "code",
      "source": [],
      "metadata": {
        "id": "FAkHRI5Vkvro"
      },
      "execution_count": null,
      "outputs": []
    },
    {
      "cell_type": "code",
      "source": [],
      "metadata": {
        "id": "jt5YYniNkwlv"
      },
      "execution_count": null,
      "outputs": []
    },
    {
      "cell_type": "code",
      "source": [
        "!git clone https://github.com/rohan1827/Lip-lense.git\n"
      ],
      "metadata": {
        "colab": {
          "base_uri": "https://localhost:8080/"
        },
        "id": "rwOSjrTekxha",
        "outputId": "abcad745-5edd-4baf-a649-63ea6be93634"
      },
      "execution_count": 2,
      "outputs": [
        {
          "output_type": "stream",
          "name": "stdout",
          "text": [
            "Cloning into 'Lip-lense'...\n",
            "remote: Enumerating objects: 2025, done.\u001b[K\n",
            "remote: Counting objects: 100% (19/19), done.\u001b[K\n",
            "remote: Compressing objects: 100% (17/17), done.\u001b[K\n",
            "remote: Total 2025 (delta 4), reused 13 (delta 0), pack-reused 2006 (from 1)\u001b[K\n",
            "Receiving objects: 100% (2025/2025), 408.48 MiB | 25.00 MiB/s, done.\n",
            "Resolving deltas: 100% (4/4), done.\n",
            "Updating files: 100% (2006/2006), done.\n"
          ]
        }
      ]
    },
    {
      "cell_type": "code",
      "source": [
        "import os\n",
        "os.chdir('/content/Lip-lense')"
      ],
      "metadata": {
        "id": "wWFTUVWJk9ND"
      },
      "execution_count": 7,
      "outputs": []
    },
    {
      "cell_type": "code",
      "source": [
        "!ls /content/Lip-lense"
      ],
      "metadata": {
        "colab": {
          "base_uri": "https://localhost:8080/"
        },
        "id": "Co8tI8FRlJeY",
        "outputId": "856d7ba3-f7eb-4213-c15a-387dbd9de093"
      },
      "execution_count": 8,
      "outputs": [
        {
          "output_type": "stream",
          "name": "stdout",
          "text": [
            "demo-data  LICENSE  notebooks  README.md  videos.zip  Weekly-udates\n"
          ]
        }
      ]
    },
    {
      "cell_type": "code",
      "source": [
        "!ls /content/Lip-lense/demo-data"
      ],
      "metadata": {
        "colab": {
          "base_uri": "https://localhost:8080/"
        },
        "id": "bVBSyP49lJh6",
        "outputId": "0d1ba438-9a50-42fb-9eee-45b4720b81e4"
      },
      "execution_count": 9,
      "outputs": [
        {
          "output_type": "stream",
          "name": "stdout",
          "text": [
            "s1  videos\n"
          ]
        }
      ]
    },
    {
      "cell_type": "code",
      "source": [],
      "metadata": {
        "id": "u4mPqNrmlJuZ"
      },
      "execution_count": 16,
      "outputs": []
    },
    {
      "cell_type": "code",
      "source": [
        "# copying videos and alignments to different folders\n",
        "!cp -r '/content/Lip-lense/demo-data/videos/s1' /content/videosFiles/\n",
        "!cp -r '/content/Lip-lense/demo-data/s1' /content/alignmentsFiles/"
      ],
      "metadata": {
        "id": "q8mBSKczsuxl"
      },
      "execution_count": 3,
      "outputs": []
    },
    {
      "cell_type": "code",
      "source": [
        "!ls"
      ],
      "metadata": {
        "colab": {
          "base_uri": "https://localhost:8080/"
        },
        "id": "-xzRk2tvsu3M",
        "outputId": "ebfc04bf-5915-48d0-b543-056686af72d4"
      },
      "execution_count": 4,
      "outputs": [
        {
          "output_type": "stream",
          "name": "stdout",
          "text": [
            "alignmentsFiles  Lip-lense  sample_data  videosFiles\n"
          ]
        }
      ]
    },
    {
      "cell_type": "code",
      "source": [
        "def load_video(path:str) -> List[float]:\n",
        "  cap = cv2.VideoCapture(path)\n",
        "  frames = []\n",
        "  for _ in range(int(cap.get(cv2.CAP_PROP_FRAME_COUNT))):\n",
        "    ret, frame = cap.read()\n",
        "    frame = tf.image.rgb_to_grayscale(frame)\n",
        "    # crpping\n",
        "    frames.append(frame[190:236,80:220,:])\n",
        "\n",
        "    # frames.append(frame)\n",
        "  cap.release()\n",
        "\n",
        "  mean = tf.math.reduce_mean(frames)\n",
        "  std = tf.math.reduce_std(tf.cast(frames, tf.float32))\n",
        "  return tf.cast((frames - mean), tf.float32) / std"
      ],
      "metadata": {
        "id": "MJX2Ezg3w--W"
      },
      "execution_count": 58,
      "outputs": []
    },
    {
      "cell_type": "code",
      "source": [
        "vocab = [x for x in \"abcdefghijklmnopqrstuvwxyz'?!123456789 \"]"
      ],
      "metadata": {
        "id": "Ye8gA_T3x1X1"
      },
      "execution_count": 6,
      "outputs": []
    },
    {
      "cell_type": "code",
      "source": [
        "char_to_num = tf.keras.layers.StringLookup(vocabulary=vocab, oov_token=\"\")\n",
        "num_to_char = tf.keras.layers.StringLookup(vocabulary=char_to_num.get_vocabulary(), oov_token=\"\", invert=True)\n",
        "print(char_to_num.get_vocabulary())\n",
        "print(char_to_num.vocabulary_size())"
      ],
      "metadata": {
        "colab": {
          "base_uri": "https://localhost:8080/"
        },
        "id": "U0BFBvm3x1a0",
        "outputId": "118c94a3-0c85-4582-a8ff-0a3a495e3bff"
      },
      "execution_count": 8,
      "outputs": [
        {
          "output_type": "stream",
          "name": "stdout",
          "text": [
            "['', 'a', 'b', 'c', 'd', 'e', 'f', 'g', 'h', 'i', 'j', 'k', 'l', 'm', 'n', 'o', 'p', 'q', 'r', 's', 't', 'u', 'v', 'w', 'x', 'y', 'z', \"'\", '?', '!', '1', '2', '3', '4', '5', '6', '7', '8', '9', ' ']\n",
            "40\n"
          ]
        }
      ]
    },
    {
      "cell_type": "code",
      "source": [
        "# char_to_num(['a', 'b', 'c', 'z','1'])"
      ],
      "metadata": {
        "colab": {
          "base_uri": "https://localhost:8080/"
        },
        "id": "LTY0ez6Px1eG",
        "outputId": "a7207f22-b5ea-4f6d-f9ee-2e8546d70570"
      },
      "execution_count": 11,
      "outputs": [
        {
          "output_type": "execute_result",
          "data": {
            "text/plain": [
              "<tf.Tensor: shape=(5,), dtype=int64, numpy=array([ 1,  2,  3, 26, 30])>"
            ]
          },
          "metadata": {},
          "execution_count": 11
        }
      ]
    },
    {
      "cell_type": "code",
      "source": [
        "def load_alignments(path:str) -> List[str]:\n",
        "    with open(path, 'r') as f:\n",
        "        lines = f.readlines()\n",
        "    tokens = []\n",
        "    for line in lines:\n",
        "        line = line.split()\n",
        "        if line[2] != 'sil':\n",
        "            tokens = [*tokens,' ',line[2]]\n",
        "    return char_to_num(tf.reshape(tf.strings.unicode_split(tokens, input_encoding='UTF-8'), (-1)))[1:]"
      ],
      "metadata": {
        "id": "ReWoMbb_QHbj"
      },
      "execution_count": 12,
      "outputs": []
    },
    {
      "cell_type": "code",
      "source": [
        "def load_data(path: str):\n",
        "    path = bytes.decode(path.numpy())\n",
        "    # in linus need to use forward slash\n",
        "    file_name = path.split('/')[-1].split('.')[0]\n",
        "    # File name splitting for windows\n",
        "    # file_name = path.split('\\\\')[-1].split('.')[0]\n",
        "    # mention the folder of videos and alignments\n",
        "    video_path = os.path.join('/content','videosFiles',f'{file_name}.mpg')\n",
        "    alignment_path = os.path.join('/content','alignmentsFiles',f'{file_name}.align')\n",
        "    frames = load_video(video_path)\n",
        "    alignments = load_alignments(alignment_path)\n",
        "\n",
        "    return frames, alignments"
      ],
      "metadata": {
        "id": "raY0ttQQR8FL"
      },
      "execution_count": 50,
      "outputs": []
    },
    {
      "cell_type": "code",
      "source": [
        "test_path = '/content/videosFiles/bbaf2n.mpg'\n"
      ],
      "metadata": {
        "id": "lu_S9xs5SCJu"
      },
      "execution_count": 17,
      "outputs": []
    },
    {
      "cell_type": "code",
      "source": [
        "# !ls //content//Lip-lense"
      ],
      "metadata": {
        "colab": {
          "base_uri": "https://localhost:8080/"
        },
        "id": "eZyo_s6eYfc5",
        "outputId": "81db26b2-f6f4-41fc-d9bc-edafa60f5bd3"
      },
      "execution_count": 14,
      "outputs": [
        {
          "output_type": "stream",
          "name": "stdout",
          "text": [
            "\u001b[0m\u001b[01;34mdemo-data\u001b[0m/  LICENSE  \u001b[01;34mnotebooks\u001b[0m/  README.md  \u001b[01;34mWeekly-udates\u001b[0m/\n"
          ]
        }
      ]
    },
    {
      "cell_type": "code",
      "source": [
        "tf.convert_to_tensor(test_path).numpy()"
      ],
      "metadata": {
        "colab": {
          "base_uri": "https://localhost:8080/"
        },
        "id": "4ZmWVrtjZX8H",
        "outputId": "073c112f-64c5-4480-ac74-4d2322b470e7"
      },
      "execution_count": 19,
      "outputs": [
        {
          "output_type": "execute_result",
          "data": {
            "text/plain": [
              "b'/content/videosFiles/bbaf2n.mpg'"
            ]
          },
          "metadata": {},
          "execution_count": 19
        }
      ]
    },
    {
      "cell_type": "code",
      "source": [
        "tf.convert_to_tensor(test_path).numpy().decode('utf-8')"
      ],
      "metadata": {
        "colab": {
          "base_uri": "https://localhost:8080/",
          "height": 35
        },
        "id": "WoygHQ9WZwx7",
        "outputId": "c321b002-bfaf-4f84-fddb-b8a930a916ff"
      },
      "execution_count": 20,
      "outputs": [
        {
          "output_type": "execute_result",
          "data": {
            "text/plain": [
              "'/content/videosFiles/bbaf2n.mpg'"
            ],
            "application/vnd.google.colaboratory.intrinsic+json": {
              "type": "string"
            }
          },
          "metadata": {},
          "execution_count": 20
        }
      ]
    },
    {
      "cell_type": "code",
      "source": [
        "tf.convert_to_tensor(test_path).numpy().decode('utf-8').split('/')"
      ],
      "metadata": {
        "colab": {
          "base_uri": "https://localhost:8080/"
        },
        "id": "af_r9qxabine",
        "outputId": "73ed00a5-068e-4bb0-e975-fb6a977239c8"
      },
      "execution_count": 25,
      "outputs": [
        {
          "output_type": "execute_result",
          "data": {
            "text/plain": [
              "['', 'content', 'videosFiles', 'bbaf2n.mpg']"
            ]
          },
          "metadata": {},
          "execution_count": 25
        }
      ]
    },
    {
      "cell_type": "code",
      "source": [
        "tf.convert_to_tensor(test_path).numpy().decode('utf-8').split('/')[-1].split('.')[0]\n"
      ],
      "metadata": {
        "colab": {
          "base_uri": "https://localhost:8080/",
          "height": 35
        },
        "id": "eDtmojpPSEkv",
        "outputId": "56304302-27d2-4dc4-fa10-65661b899971"
      },
      "execution_count": 24,
      "outputs": [
        {
          "output_type": "execute_result",
          "data": {
            "text/plain": [
              "'bbaf2n'"
            ],
            "application/vnd.google.colaboratory.intrinsic+json": {
              "type": "string"
            }
          },
          "metadata": {},
          "execution_count": 24
        }
      ]
    },
    {
      "cell_type": "code",
      "source": [
        "path = tf.convert_to_tensor(test_path).numpy().decode('utf-8').split('/')[-1].split('.')[0]\n"
      ],
      "metadata": {
        "id": "hktVpuBXcjxr"
      },
      "execution_count": 31,
      "outputs": []
    },
    {
      "cell_type": "code",
      "source": [
        "# os.path.join('content','videosFiles',f'{path}.mpg')"
      ],
      "metadata": {
        "colab": {
          "base_uri": "https://localhost:8080/",
          "height": 35
        },
        "id": "qGgpYMP1cFeo",
        "outputId": "d54a13a8-230e-4711-9301-3dac9097371f"
      },
      "execution_count": 32,
      "outputs": [
        {
          "output_type": "execute_result",
          "data": {
            "text/plain": [
              "'content/videosFiles/bbaf2n.mpg'"
            ],
            "application/vnd.google.colaboratory.intrinsic+json": {
              "type": "string"
            }
          },
          "metadata": {},
          "execution_count": 32
        }
      ]
    },
    {
      "cell_type": "code",
      "source": [
        "# os.path.join('/content','videosFiles')"
      ],
      "metadata": {
        "colab": {
          "base_uri": "https://localhost:8080/",
          "height": 35
        },
        "id": "ndcV-Na-dMlg",
        "outputId": "8574c8e9-2366-43a8-c6c4-19c1c7fbbd0b"
      },
      "execution_count": 49,
      "outputs": [
        {
          "output_type": "execute_result",
          "data": {
            "text/plain": [
              "'/content/videosFiles'"
            ],
            "application/vnd.google.colaboratory.intrinsic+json": {
              "type": "string"
            }
          },
          "metadata": {},
          "execution_count": 49
        }
      ]
    },
    {
      "cell_type": "code",
      "source": [
        "# we will load the alignment and video for this perticular file\n",
        "load_data(tf.convert_to_tensor('bbal6n'))"
      ],
      "metadata": {
        "colab": {
          "base_uri": "https://localhost:8080/"
        },
        "id": "Uj7XCREmhFIV",
        "outputId": "edd0d535-51f6-43bc-bfff-7c2785217652"
      },
      "execution_count": 59,
      "outputs": [
        {
          "output_type": "execute_result",
          "data": {
            "text/plain": [
              "(<tf.Tensor: shape=(75, 46, 140, 1), dtype=float32, numpy=\n",
              " array([[[[ 1.4603736 ],\n",
              "          [ 1.4603736 ],\n",
              "          [ 1.4209042 ],\n",
              "          ...,\n",
              "          [ 0.15787823],\n",
              "          [ 0.19734779],\n",
              "          [ 0.07893912]],\n",
              " \n",
              "         [[ 1.4603736 ],\n",
              "          [ 1.4603736 ],\n",
              "          [ 1.4209042 ],\n",
              "          ...,\n",
              "          [ 0.15787823],\n",
              "          [ 0.07893912],\n",
              "          [ 0.03946956]],\n",
              " \n",
              "         [[ 1.4209042 ],\n",
              "          [ 1.4209042 ],\n",
              "          [ 1.3814346 ],\n",
              "          ...,\n",
              "          [ 0.07893912],\n",
              "          [ 0.07893912],\n",
              "          [ 0.07893912]],\n",
              " \n",
              "         ...,\n",
              " \n",
              "         [[ 0.9472694 ],\n",
              "          [ 0.9472694 ],\n",
              "          [ 0.9472694 ],\n",
              "          ...,\n",
              "          [ 9.946329  ],\n",
              "          [ 9.86739   ],\n",
              "          [ 9.86739   ]],\n",
              " \n",
              "         [[ 0.9472694 ],\n",
              "          [ 0.9472694 ],\n",
              "          [ 0.9472694 ],\n",
              "          ...,\n",
              "          [ 9.906859  ],\n",
              "          [ 9.86739   ],\n",
              "          [ 9.86739   ]],\n",
              " \n",
              "         [[ 0.9472694 ],\n",
              "          [ 0.9472694 ],\n",
              "          [ 0.9472694 ],\n",
              "          ...,\n",
              "          [ 9.906859  ],\n",
              "          [ 9.86739   ],\n",
              "          [ 9.86739   ]]],\n",
              " \n",
              " \n",
              "        [[[ 1.4209042 ],\n",
              "          [ 1.4209042 ],\n",
              "          [ 1.341965  ],\n",
              "          ...,\n",
              "          [ 0.19734779],\n",
              "          [ 0.11840867],\n",
              "          [ 0.15787823]],\n",
              " \n",
              "         [[ 1.4209042 ],\n",
              "          [ 1.4209042 ],\n",
              "          [ 1.341965  ],\n",
              "          ...,\n",
              "          [ 0.23681735],\n",
              "          [ 0.        ],\n",
              "          [ 0.03946956]],\n",
              " \n",
              "         [[ 1.341965  ],\n",
              "          [ 1.341965  ],\n",
              "          [ 1.3024955 ],\n",
              "          ...,\n",
              "          [ 0.11840867],\n",
              "          [ 0.15787823],\n",
              "          [ 0.15787823]],\n",
              " \n",
              "         ...,\n",
              " \n",
              "         [[ 0.9472694 ],\n",
              "          [ 0.9472694 ],\n",
              "          [ 0.9472694 ],\n",
              "          ...,\n",
              "          [10.025268  ],\n",
              "          [ 9.946329  ],\n",
              "          [ 9.946329  ]],\n",
              " \n",
              "         [[ 0.90779984],\n",
              "          [ 0.90779984],\n",
              "          [ 0.90779984],\n",
              "          ...,\n",
              "          [ 9.946329  ],\n",
              "          [ 9.906859  ],\n",
              "          [ 9.906859  ]],\n",
              " \n",
              "         [[ 0.90779984],\n",
              "          [ 0.90779984],\n",
              "          [ 0.90779984],\n",
              "          ...,\n",
              "          [ 9.946329  ],\n",
              "          [ 9.906859  ],\n",
              "          [ 9.906859  ]]],\n",
              " \n",
              " \n",
              "        [[[ 1.4209042 ],\n",
              "          [ 1.4209042 ],\n",
              "          [ 1.341965  ],\n",
              "          ...,\n",
              "          [ 0.15787823],\n",
              "          [ 0.07893912],\n",
              "          [ 0.15787823]],\n",
              " \n",
              "         [[ 1.4209042 ],\n",
              "          [ 1.4209042 ],\n",
              "          [ 1.341965  ],\n",
              "          ...,\n",
              "          [ 0.2762869 ],\n",
              "          [ 0.03946956],\n",
              "          [ 0.15787823]],\n",
              " \n",
              "         [[ 1.341965  ],\n",
              "          [ 1.3024955 ],\n",
              "          [ 1.341965  ],\n",
              "          ...,\n",
              "          [ 0.11840867],\n",
              "          [ 0.11840867],\n",
              "          [ 0.11840867]],\n",
              " \n",
              "         ...,\n",
              " \n",
              "         [[ 0.986739  ],\n",
              "          [ 0.986739  ],\n",
              "          [ 0.9472694 ],\n",
              "          ...,\n",
              "          [ 9.985798  ],\n",
              "          [ 9.985798  ],\n",
              "          [ 9.985798  ]],\n",
              " \n",
              "         [[ 0.9472694 ],\n",
              "          [ 0.9472694 ],\n",
              "          [ 0.90779984],\n",
              "          ...,\n",
              "          [ 9.946329  ],\n",
              "          [ 9.906859  ],\n",
              "          [ 9.906859  ]],\n",
              " \n",
              "         [[ 0.9472694 ],\n",
              "          [ 0.9472694 ],\n",
              "          [ 0.90779984],\n",
              "          ...,\n",
              "          [ 9.946329  ],\n",
              "          [ 9.906859  ],\n",
              "          [ 9.906859  ]]],\n",
              " \n",
              " \n",
              "        ...,\n",
              " \n",
              " \n",
              "        [[[ 1.3814346 ],\n",
              "          [ 1.3814346 ],\n",
              "          [ 1.4209042 ],\n",
              "          ...,\n",
              "          [ 0.19734779],\n",
              "          [ 0.15787823],\n",
              "          [ 0.07893912]],\n",
              " \n",
              "         [[ 1.3814346 ],\n",
              "          [ 1.3814346 ],\n",
              "          [ 1.4209042 ],\n",
              "          ...,\n",
              "          [ 0.11840867],\n",
              "          [ 0.11840867],\n",
              "          [ 0.07893912]],\n",
              " \n",
              "         [[ 1.3024955 ],\n",
              "          [ 1.3024955 ],\n",
              "          [ 1.3024955 ],\n",
              "          ...,\n",
              "          [ 0.11840867],\n",
              "          [ 0.11840867],\n",
              "          [ 0.15787823]],\n",
              " \n",
              "         ...,\n",
              " \n",
              "         [[ 0.986739  ],\n",
              "          [ 0.9472694 ],\n",
              "          [ 0.9472694 ],\n",
              "          ...,\n",
              "          [ 9.906859  ],\n",
              "          [ 9.86739   ],\n",
              "          [ 9.86739   ]],\n",
              " \n",
              "         [[ 0.9472694 ],\n",
              "          [ 0.9472694 ],\n",
              "          [ 0.9472694 ],\n",
              "          ...,\n",
              "          [ 9.906859  ],\n",
              "          [ 9.86739   ],\n",
              "          [ 9.86739   ]],\n",
              " \n",
              "         [[ 0.9472694 ],\n",
              "          [ 0.9472694 ],\n",
              "          [ 0.9472694 ],\n",
              "          ...,\n",
              "          [ 9.906859  ],\n",
              "          [ 9.86739   ],\n",
              "          [ 9.86739   ]]],\n",
              " \n",
              " \n",
              "        [[[ 1.341965  ],\n",
              "          [ 1.341965  ],\n",
              "          [ 1.3814346 ],\n",
              "          ...,\n",
              "          [ 0.15787823],\n",
              "          [ 0.07893912],\n",
              "          [ 0.        ]],\n",
              " \n",
              "         [[ 1.341965  ],\n",
              "          [ 1.341965  ],\n",
              "          [ 1.3814346 ],\n",
              "          ...,\n",
              "          [ 0.15787823],\n",
              "          [ 0.11840867],\n",
              "          [ 0.03946956]],\n",
              " \n",
              "         [[ 1.3024955 ],\n",
              "          [ 1.3024955 ],\n",
              "          [ 1.3024955 ],\n",
              "          ...,\n",
              "          [ 0.11840867],\n",
              "          [ 0.07893912],\n",
              "          [ 0.11840867]],\n",
              " \n",
              "         ...,\n",
              " \n",
              "         [[ 0.9472694 ],\n",
              "          [ 0.90779984],\n",
              "          [ 0.90779984],\n",
              "          ...,\n",
              "          [ 9.86739   ],\n",
              "          [ 9.82792   ],\n",
              "          [ 9.82792   ]],\n",
              " \n",
              "         [[ 0.90779984],\n",
              "          [ 0.90779984],\n",
              "          [ 0.90779984],\n",
              "          ...,\n",
              "          [ 9.86739   ],\n",
              "          [ 9.82792   ],\n",
              "          [ 9.82792   ]],\n",
              " \n",
              "         [[ 0.90779984],\n",
              "          [ 0.90779984],\n",
              "          [ 0.90779984],\n",
              "          ...,\n",
              "          [ 9.86739   ],\n",
              "          [ 9.82792   ],\n",
              "          [ 9.82792   ]]],\n",
              " \n",
              " \n",
              "        [[[ 1.3024955 ],\n",
              "          [ 1.3024955 ],\n",
              "          [ 1.3814346 ],\n",
              "          ...,\n",
              "          [ 0.07893912],\n",
              "          [ 0.07893912],\n",
              "          [ 0.15787823]],\n",
              " \n",
              "         [[ 1.3024955 ],\n",
              "          [ 1.3024955 ],\n",
              "          [ 1.3814346 ],\n",
              "          ...,\n",
              "          [ 0.        ],\n",
              "          [ 0.07893912],\n",
              "          [ 0.23681735]],\n",
              " \n",
              "         [[ 1.341965  ],\n",
              "          [ 1.341965  ],\n",
              "          [ 1.341965  ],\n",
              "          ...,\n",
              "          [ 0.07893912],\n",
              "          [ 0.07893912],\n",
              "          [ 0.07893912]],\n",
              " \n",
              "         ...,\n",
              " \n",
              "         [[ 0.90779984],\n",
              "          [ 0.90779984],\n",
              "          [ 0.90779984],\n",
              "          ...,\n",
              "          [ 9.906859  ],\n",
              "          [ 9.86739   ],\n",
              "          [ 9.86739   ]],\n",
              " \n",
              "         [[ 0.90779984],\n",
              "          [ 0.90779984],\n",
              "          [ 0.90779984],\n",
              "          ...,\n",
              "          [ 9.946329  ],\n",
              "          [ 9.86739   ],\n",
              "          [ 9.86739   ]],\n",
              " \n",
              "         [[ 0.90779984],\n",
              "          [ 0.90779984],\n",
              "          [ 0.90779984],\n",
              "          ...,\n",
              "          [ 9.946329  ],\n",
              "          [ 9.86739   ],\n",
              "          [ 9.86739   ]]]], dtype=float32)>,\n",
              " <tf.Tensor: shape=(21,), dtype=int64, numpy=\n",
              " array([ 2,  9, 14, 39,  2, 12, 21,  5, 39,  1, 20, 39, 12, 39, 19,  9, 24,\n",
              "        39, 14, 15, 23])>)"
            ]
          },
          "metadata": {},
          "execution_count": 59
        }
      ]
    },
    {
      "cell_type": "code",
      "source": [
        "frames, alignments = load_data(tf.convert_to_tensor(test_path))\n"
      ],
      "metadata": {
        "id": "4Sna7ws8SG0i"
      },
      "execution_count": 60,
      "outputs": []
    },
    {
      "cell_type": "code",
      "source": [
        "len(frames)"
      ],
      "metadata": {
        "colab": {
          "base_uri": "https://localhost:8080/"
        },
        "id": "apENRKSZgvzZ",
        "outputId": "844dceeb-fbf9-4b9e-9d61-8f383a878103"
      },
      "execution_count": 53,
      "outputs": [
        {
          "output_type": "execute_result",
          "data": {
            "text/plain": [
              "75"
            ]
          },
          "metadata": {},
          "execution_count": 53
        }
      ]
    },
    {
      "cell_type": "code",
      "source": [
        "len(alignments)"
      ],
      "metadata": {
        "colab": {
          "base_uri": "https://localhost:8080/"
        },
        "id": "DGdGOWA4g3Nc",
        "outputId": "8b244ed0-b8ea-49e1-ac08-1c1a0c03477a"
      },
      "execution_count": 54,
      "outputs": [
        {
          "output_type": "execute_result",
          "data": {
            "text/plain": [
              "21"
            ]
          },
          "metadata": {},
          "execution_count": 54
        }
      ]
    },
    {
      "cell_type": "code",
      "source": [
        "plt.imshow(frames[51])\n"
      ],
      "metadata": {
        "colab": {
          "base_uri": "https://localhost:8080/",
          "height": 244
        },
        "id": "MukL0gNdSJDW",
        "outputId": "522d0fe3-5387-45b5-f9a5-0305feb78b27"
      },
      "execution_count": 68,
      "outputs": [
        {
          "output_type": "execute_result",
          "data": {
            "text/plain": [
              "<matplotlib.image.AxesImage at 0x7b001a778700>"
            ]
          },
          "metadata": {},
          "execution_count": 68
        },
        {
          "output_type": "display_data",
          "data": {
            "text/plain": [
              "<Figure size 640x480 with 1 Axes>"
            ],
            "image/png": "[encoded data removed]"
          },
          "metadata": {}
        }
      ]
    },
    {
      "cell_type": "code",
      "source": [
        "alignments\n"
      ],
      "metadata": {
        "colab": {
          "base_uri": "https://localhost:8080/"
        },
        "id": "TqkaP_eYSLDG",
        "outputId": "df2c0345-5ed6-4d6a-e5ba-48ee724eec47"
      },
      "execution_count": 62,
      "outputs": [
        {
          "output_type": "execute_result",
          "data": {
            "text/plain": [
              "<tf.Tensor: shape=(21,), dtype=int64, numpy=\n",
              "array([ 2,  9, 14, 39,  2, 12, 21,  5, 39,  1, 20, 39,  6, 39, 20, 23, 15,\n",
              "       39, 14, 15, 23])>"
            ]
          },
          "metadata": {},
          "execution_count": 62
        }
      ]
    },
    {
      "cell_type": "code",
      "source": [
        "num_to_char(alignments)"
      ],
      "metadata": {
        "colab": {
          "base_uri": "https://localhost:8080/"
        },
        "id": "MzKwl9osijX6",
        "outputId": "94beadb6-dd72-47d8-cba1-0f77a9e61a49"
      },
      "execution_count": 70,
      "outputs": [
        {
          "output_type": "execute_result",
          "data": {
            "text/plain": [
              "<tf.Tensor: shape=(21,), dtype=string, numpy=\n",
              "array([b'b', b'i', b'n', b' ', b'b', b'l', b'u', b'e', b' ', b'a', b't',\n",
              "       b' ', b'f', b' ', b't', b'w', b'o', b' ', b'n', b'o', b'w'],\n",
              "      dtype=object)>"
            ]
          },
          "metadata": {},
          "execution_count": 70
        }
      ]
    },
    {
      "cell_type": "code",
      "source": [
        "num_to_char(alignments.numpy())"
      ],
      "metadata": {
        "colab": {
          "base_uri": "https://localhost:8080/"
        },
        "id": "HUPqKsqEi-Q9",
        "outputId": "90030ab6-0dab-4a3b-883b-079100bf1206"
      },
      "execution_count": 73,
      "outputs": [
        {
          "output_type": "execute_result",
          "data": {
            "text/plain": [
              "<tf.Tensor: shape=(21,), dtype=string, numpy=\n",
              "array([b'b', b'i', b'n', b' ', b'b', b'l', b'u', b'e', b' ', b'a', b't',\n",
              "       b' ', b'f', b' ', b't', b'w', b'o', b' ', b'n', b'o', b'w'],\n",
              "      dtype=object)>"
            ]
          },
          "metadata": {},
          "execution_count": 73
        }
      ]
    },
    {
      "cell_type": "code",
      "source": [
        "tf.strings.reduce_join([bytes.decode(x) for x in num_to_char(alignments.numpy()).numpy()])\n"
      ],
      "metadata": {
        "colab": {
          "base_uri": "https://localhost:8080/"
        },
        "id": "n0O1M9GlSNSg",
        "outputId": "e20154f2-abdf-4e12-e703-6821afbe8be9"
      },
      "execution_count": 69,
      "outputs": [
        {
          "output_type": "execute_result",
          "data": {
            "text/plain": [
              "<tf.Tensor: shape=(), dtype=string, numpy=b'bin blue at f two now'>"
            ]
          },
          "metadata": {},
          "execution_count": 69
        }
      ]
    },
    {
      "cell_type": "code",
      "source": [
        "\n",
        "def mappable_function(path:str) ->List[str]:\n",
        "    result = tf.py_function(load_data, [path], (tf.float32, tf.int64))\n",
        "    return result"
      ],
      "metadata": {
        "id": "iO5PuLO9SPUH"
      },
      "execution_count": 74,
      "outputs": []
    },
    {
      "cell_type": "code",
      "source": [],
      "metadata": {
        "id": "5VRcWhuvjGuO"
      },
      "execution_count": null,
      "outputs": []
    },
    {
      "cell_type": "code",
      "source": [
        "# Data pipeline"
      ],
      "metadata": {
        "id": "w_9Vf2JCSQij"
      },
      "execution_count": null,
      "outputs": []
    },
    {
      "cell_type": "code",
      "source": [],
      "metadata": {
        "id": "c7ngp8-KSYV7"
      },
      "execution_count": null,
      "outputs": []
    },
    {
      "cell_type": "code",
      "source": [
        "data = tf.data.Dataset.list_files('/content/videosFiles/*.mpg')\n",
        "data = data.shuffle(500, reshuffle_each_iteration=False)\n",
        "data = data.map(mappable_function)\n",
        "# pick data as a batch of two\n",
        "data = data.padded_batch(2, padded_shapes=([75,None,None,None],[40]))\n",
        "data = data.prefetch(tf.data.AUTOTUNE)\n"
      ],
      "metadata": {
        "id": "x6U6KL_2SZS7"
      },
      "execution_count": 84,
      "outputs": []
    },
    {
      "cell_type": "code",
      "source": [
        "# get the next files using iteration\n",
        "frames,alignments = data.as_numpy_iterator().next()"
      ],
      "metadata": {
        "id": "nNJpYWGbkeGf"
      },
      "execution_count": 85,
      "outputs": []
    },
    {
      "cell_type": "code",
      "source": [
        "alignments"
      ],
      "metadata": {
        "colab": {
          "base_uri": "https://localhost:8080/"
        },
        "id": "T3IqEiy8li0s",
        "outputId": "f9accab5-fbd0-44a9-84c9-3bec29fbfe3a"
      },
      "execution_count": 87,
      "outputs": [
        {
          "output_type": "execute_result",
          "data": {
            "text/plain": [
              "array([[ 2,  9, 14, 39, 23,  8,  9, 20,  5, 39,  9, 14, 39, 13, 39, 19,\n",
              "         5, 22,  5, 14, 39,  1,  7,  1,  9, 14,  0,  0,  0,  0,  0,  0,\n",
              "         0,  0,  0,  0,  0,  0,  0,  0],\n",
              "       [ 2,  9, 14, 39,  7, 18,  5,  5, 14, 39,  1, 20, 39,  8, 39, 20,\n",
              "         8, 18,  5,  5, 39,  1,  7,  1,  9, 14,  0,  0,  0,  0,  0,  0,\n",
              "         0,  0,  0,  0,  0,  0,  0,  0]])"
            ]
          },
          "metadata": {},
          "execution_count": 87
        }
      ]
    },
    {
      "cell_type": "code",
      "source": [
        "len(frames)"
      ],
      "metadata": {
        "colab": {
          "base_uri": "https://localhost:8080/"
        },
        "id": "jTaZP1M1mASd",
        "outputId": "88c73660-c853-49fc-bfa9-1d48c4d512ec"
      },
      "execution_count": 88,
      "outputs": [
        {
          "output_type": "execute_result",
          "data": {
            "text/plain": [
              "2"
            ]
          },
          "metadata": {},
          "execution_count": 88
        }
      ]
    },
    {
      "cell_type": "code",
      "source": [
        "val = data.as_numpy_iterator().next()"
      ],
      "metadata": {
        "id": "Dx4z2y3LmE-C"
      },
      "execution_count": 89,
      "outputs": []
    },
    {
      "cell_type": "code",
      "source": [
        "val[1][0]"
      ],
      "metadata": {
        "colab": {
          "base_uri": "https://localhost:8080/"
        },
        "id": "9be0jAhgmKgN",
        "outputId": "c7d2f42c-00cf-4c34-f2ee-fc31bff6615b"
      },
      "execution_count": 92,
      "outputs": [
        {
          "output_type": "execute_result",
          "data": {
            "text/plain": [
              "array([16, 12,  1,  3,  5, 39,  7, 18,  5,  5, 14, 39, 23,  9, 20,  8, 39,\n",
              "       12, 39, 20,  8, 18,  5,  5, 39,  1,  7,  1,  9, 14,  0,  0,  0,  0,\n",
              "        0,  0,  0,  0,  0,  0])"
            ]
          },
          "metadata": {},
          "execution_count": 92
        }
      ]
    },
    {
      "cell_type": "code",
      "source": [
        "# index 0  -> video or alignement, index 1 - > batch 1 or 2-> index 3 frames for videos or vocab for alignments\n",
        "plt.imshow(val[0][0][0])"
      ],
      "metadata": {
        "colab": {
          "base_uri": "https://localhost:8080/",
          "height": 244
        },
        "id": "e2ZTIib4m4wn",
        "outputId": "39a2f95d-3fc7-49d6-bf39-1698ef1f1e09"
      },
      "execution_count": 95,
      "outputs": [
        {
          "output_type": "execute_result",
          "data": {
            "text/plain": [
              "<matplotlib.image.AxesImage at 0x7affd7cd4850>"
            ]
          },
          "metadata": {},
          "execution_count": 95
        },
        {
          "output_type": "display_data",
          "data": {
            "text/plain": [
              "<Figure size 640x480 with 1 Axes>"
            ],
            "image/png": "[encoded data removed]"
          },
          "metadata": {}
        }
      ]
    },
    {
      "cell_type": "code",
      "source": [
        "tf.strings.reduce_join([num_to_char(word) for word in val[1][0]])"
      ],
      "metadata": {
        "colab": {
          "base_uri": "https://localhost:8080/"
        },
        "id": "WLZ4xspPnD1o",
        "outputId": "6e762b35-b600-4540-8284-c5dfe9611646"
      },
      "execution_count": 96,
      "outputs": [
        {
          "output_type": "execute_result",
          "data": {
            "text/plain": [
              "<tf.Tensor: shape=(), dtype=string, numpy=b'place green with l three again'>"
            ]
          },
          "metadata": {},
          "execution_count": 96
        }
      ]
    },
    {
      "cell_type": "code",
      "source": [
        "tf.strings.reduce_join([num_to_char(word) for word in val[1][1]])"
      ],
      "metadata": {
        "colab": {
          "base_uri": "https://localhost:8080/"
        },
        "id": "ADoo-lmOnOAV",
        "outputId": "2618ca3a-4a76-4a42-9f4d-11649251daf6"
      },
      "execution_count": 97,
      "outputs": [
        {
          "output_type": "execute_result",
          "data": {
            "text/plain": [
              "<tf.Tensor: shape=(), dtype=string, numpy=b'bin blue in e eight now'>"
            ]
          },
          "metadata": {},
          "execution_count": 97
        }
      ]
    },
    {
      "cell_type": "code",
      "source": [
        "# sample = val[0][0]"
      ],
      "metadata": {
        "id": "OxsSszipp1go"
      },
      "execution_count": 106,
      "outputs": []
    },
    {
      "cell_type": "code",
      "source": [
        "# sample = [np.array(val[0][0], dtype=np.uint8)]"
      ],
      "metadata": {
        "id": "tQv3ARupp5dD"
      },
      "execution_count": 108,
      "outputs": []
    },
    {
      "cell_type": "code",
      "source": [
        "# imageio.mimsave('./animation.gif', sample,fps =10)"
      ],
      "metadata": {
        "id": "VKfYv_axkc3Y"
      },
      "execution_count": 111,
      "outputs": []
    },
    {
      "cell_type": "code",
      "source": [],
      "metadata": {
        "id": "KWk6-wqDqIUB"
      },
      "execution_count": null,
      "outputs": []
    }
  ]
}