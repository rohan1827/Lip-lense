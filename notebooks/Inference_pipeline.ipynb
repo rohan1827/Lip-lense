{
  "nbformat": 4,
  "nbformat_minor": 0,
  "metadata": {
    "colab": {
      "provenance": []
    },
    "kernelspec": {
      "name": "python3",
      "display_name": "Python 3"
    },
    "language_info": {
      "name": "python"
    }
  },
  "cells": [
    {
      "cell_type": "code",
      "execution_count": 32,
      "metadata": {
        "id": "xYn5LQL6iMCM"
      },
      "outputs": [],
      "source": [
        "import os\n",
        "import cv2\n",
        "import tensorflow as tf\n",
        "import numpy as np\n",
        "from typing import List\n",
        "from matplotlib import pyplot as plt\n",
        "import imageio\n",
        "\n",
        "from tensorflow.keras.models import Sequential\n",
        "from tensorflow.keras.layers import Conv3D, LSTM, Dense, Dropout, Bidirectional, MaxPool3D, Activation, Reshape, SpatialDropout3D, BatchNormalization, TimeDistributed, Flatten\n",
        "from tensorflow.keras.optimizers import Adam\n",
        "from tensorflow.keras.callbacks import ModelCheckpoint, LearningRateScheduler"
      ]
    },
    {
      "cell_type": "code",
      "source": [
        "# Loading the tf model\n",
        "model = tf.keras.models.load_model(\"/content/lip_reading_model.h5\")"
      ],
      "metadata": {
        "colab": {
          "base_uri": "https://localhost:8080/"
        },
        "id": "1YDfFa8fiYt9",
        "outputId": "6a52e7de-0c97-4978-f1b4-1cebbe953c45"
      },
      "execution_count": 33,
      "outputs": [
        {
          "output_type": "stream",
          "name": "stderr",
          "text": [
            "WARNING:absl:No training configuration found in the save file, so the model was *not* compiled. Compile it manually.\n"
          ]
        }
      ]
    },
    {
      "cell_type": "code",
      "source": [
        "# cloning repo to get the videos\n",
        "!git clone https://github.com/rohan1827/Lip-lense.git"
      ],
      "metadata": {
        "colab": {
          "base_uri": "https://localhost:8080/"
        },
        "id": "a0WXttgEi_s1",
        "outputId": "718c4ed1-4c30-4ff6-eca0-24e458b0deee"
      },
      "execution_count": 34,
      "outputs": [
        {
          "output_type": "stream",
          "name": "stdout",
          "text": [
            "fatal: destination path 'Lip-lense' already exists and is not an empty directory.\n"
          ]
        }
      ]
    },
    {
      "cell_type": "code",
      "source": [
        "# functions required for preprocessing---testing only\n",
        "vocab = [x for x in \"abcdefghijklmnopqrstuvwxyz'?!123456789 \"]\n",
        "char_to_num = tf.keras.layers.StringLookup(vocabulary=vocab, oov_token=\"\")\n",
        "# Mapping integers back to original characters\n",
        "num_to_char = tf.keras.layers.StringLookup(\n",
        "    vocabulary=char_to_num.get_vocabulary(), oov_token=\"\", invert=True\n",
        ")\n",
        "\n",
        "\n",
        "def load_video(path: str) -> List[float]:\n",
        "    # print(path)\n",
        "    cap = cv2.VideoCapture(path)\n",
        "    frames = []\n",
        "    for _ in range(int(cap.get(cv2.CAP_PROP_FRAME_COUNT))):\n",
        "        ret, frame = cap.read()\n",
        "        frame = tf.image.rgb_to_grayscale(frame)\n",
        "        frames.append(frame[180:246, 60:240, :])\n",
        "    cap.release()\n",
        "\n",
        "    mean = tf.math.reduce_mean(frames)\n",
        "    std = tf.math.reduce_std(tf.cast(frames, tf.float32))\n",
        "    return tf.cast((frames - mean), tf.float32) / std\n",
        "\n",
        "\n",
        "def load_alignments(path: str) -> List[str]:\n",
        "    # print(path)\n",
        "    with open(path, \"r\") as f:\n",
        "        lines = f.readlines()\n",
        "    tokens = []\n",
        "    for line in lines:\n",
        "        line = line.split()\n",
        "        if line[2] != \"sil\":\n",
        "            tokens = [*tokens, \" \", line[2]]\n",
        "    return char_to_num(\n",
        "        tf.reshape(tf.strings.unicode_split(tokens, input_encoding=\"UTF-8\"), (-1))\n",
        "    )[1:]\n",
        "\n",
        "\n",
        "def load_data(path: str):\n",
        "    path = bytes.decode(path.numpy())\n",
        "    file_name = path.split(\"/\")[-1].split(\".\")[0]\n",
        "    # File name splitting for windows\n",
        "    file_name = path.split(\"\\\\\")[-1].split(\".\")[0]\n",
        "    video_path = os.path.join(\"..\", \"demo-data\", \"videos\", \"s1\", f\"{file_name}.mpg\")\n",
        "    alignment_path = os.path.join(\"..\", \"demo-data\", \"s1\", f\"{file_name}.align\")\n",
        "    frames = load_video(video_path)\n",
        "    alignments = load_alignments(alignment_path)\n",
        "\n",
        "    return frames, alignments"
      ],
      "metadata": {
        "id": "vMCQXOifjwGM"
      },
      "execution_count": 35,
      "outputs": []
    },
    {
      "cell_type": "code",
      "source": [
        "def predict_from_video(\n",
        "    video_path: str,\n",
        "    model,\n",
        "    slice_size: int = 75,\n",
        "    overlap: int = 25,\n",
        "    target_height: int = 46,\n",
        "    target_width: int = 140,\n",
        ") -> List[str]:\n",
        "    \"\"\"\n",
        "    Complete pipeline for processing and predicting from a video.\n",
        "    Handles variable length videos using sliding windows with overlap.\n",
        "    For videos exactly 75 frames long, processes directly without slicing.\n",
        "\n",
        "    Args:\n",
        "        video_path: Path to the video file\n",
        "        model: Trained LipNet model\n",
        "        slice_size: Number of frames per slice (default: 75)\n",
        "        overlap: Number of overlapping frames between slices (default: 25)\n",
        "        target_height: Height to resize frames to (default: 46)\n",
        "        target_width: Width to resize frames to (default: 140)\n",
        "\n",
        "    Returns:\n",
        "        List of predictions for the video\n",
        "    \"\"\"\n",
        "\n",
        "    def load_video(video_path: str) -> np.ndarray:\n",
        "      \"\"\"Internal function to load and preprocess video.\"\"\"\n",
        "      cap = cv2.VideoCapture(video_path)\n",
        "      frames = []\n",
        "\n",
        "      while True:\n",
        "          ret, frame = cap.read()\n",
        "          if not ret:\n",
        "              break\n",
        "\n",
        "          # Convert to grayscale using TensorFlow\n",
        "          frame = tf.image.rgb_to_grayscale(frame)\n",
        "\n",
        "          # Crop to lips region\n",
        "          cropped_frame = frame[180:246, 60:240, :]\n",
        "\n",
        "          frames.append(cropped_frame)\n",
        "\n",
        "      cap.release()\n",
        "\n",
        "      # Convert to numpy array\n",
        "      video_frames = np.array(frames)\n",
        "\n",
        "      # Ensure exactly 75 frames\n",
        "      if video_frames.shape[0] < 75:\n",
        "          # Pad with last frame if fewer than 75\n",
        "          padding = np.repeat(video_frames[-1:], 75 - video_frames.shape[0], axis=0)\n",
        "          video_frames = np.concatenate([video_frames, padding])\n",
        "      elif video_frames.shape[0] > 75:\n",
        "          # Truncate to 75 frames if more than 75\n",
        "          video_frames = video_frames[:75]\n",
        "\n",
        "      # Resize frames to 46x140\n",
        "      resized_frames = np.array([cv2.resize(frame.numpy(), (140, 46)) for frame in video_frames])\n",
        "\n",
        "      # Reshape to model input shape\n",
        "      resized_frames = resized_frames.reshape(1, 75, 46, 140, 1)\n",
        "\n",
        "      # Optional: Visualization\n",
        "      if resized_frames.size > 0:\n",
        "          display_frame = resized_frames[0, 0, :, :, 0]\n",
        "          plt.figure(figsize=(10, 5))\n",
        "          plt.imshow(display_frame, cmap='gray')\n",
        "          plt.title('Preprocessed First Frame')\n",
        "          plt.axis('off')\n",
        "          plt.show()\n",
        "\n",
        "      return resized_frames\n",
        "\n",
        "  # In predict_from_video function, remove this line:\n",
        "  # batch = video_frames.reshape(1, slice_size, target_height, target_width, 1)\n",
        "  # Use video_frames directly\n",
        "\n",
        "    try:\n",
        "        # Load and preprocess video\n",
        "        print(f\"Loading video: {video_path}\")\n",
        "        video_frames = load_video(video_path)\n",
        "        total_frames = len(video_frames)\n",
        "\n",
        "        if total_frames == 0:\n",
        "            raise ValueError(\"No frames were loaded from the video\")\n",
        "\n",
        "        print(f\"Loaded {total_frames} frames\")\n",
        "\n",
        "        # If video is exactly 75 frames, process directly\n",
        "        if total_frames == slice_size:\n",
        "            print(\"Video is exactly 75 frames. Processing directly.\")\n",
        "            batch = video_frames.reshape(1, slice_size, target_height, target_width, 1)\n",
        "            pred = model.predict(batch, verbose=0)\n",
        "\n",
        "            # Decode prediction\n",
        "            decoded_pred = tf.keras.backend.ctc_decode(pred, [slice_size], greedy=True)[0][0].numpy()\n",
        "            final_prediction = (\n",
        "                tf.strings.reduce_join(num_to_char(decoded_pred))\n",
        "                .numpy()\n",
        "                .decode(\"utf-8\")\n",
        "            )\n",
        "\n",
        "            print(\"Prediction complete!\")\n",
        "            return final_prediction\n",
        "\n",
        "        # Process video in overlapping slices\n",
        "        predictions = []\n",
        "        stride = slice_size - overlap\n",
        "\n",
        "        for start_idx in range(0, total_frames, stride):\n",
        "            # Extract slice\n",
        "            end_idx = start_idx + slice_size\n",
        "            current_slice = video_frames[start_idx : min(end_idx, total_frames)]\n",
        "\n",
        "            # Pad if necessary\n",
        "            if len(current_slice) < slice_size:\n",
        "                padding_needed = slice_size - len(current_slice)\n",
        "                padding_frames = np.repeat(current_slice[0:1], padding_needed, axis=0)\n",
        "                current_slice = np.concatenate([current_slice, padding_frames])\n",
        "\n",
        "            # Prepare batch for model\n",
        "            batch = current_slice.reshape(1, slice_size, target_height, target_width, 1)\n",
        "\n",
        "            # Make prediction\n",
        "            print(f\"Predicting frames {start_idx} to {min(end_idx, total_frames)}\")\n",
        "            pred = model.predict(batch, verbose=0)\n",
        "\n",
        "            # Decode prediction\n",
        "            decoded_pred = tf.keras.backend.ctc_decode(pred, [slice_size], greedy=True)[\n",
        "                0\n",
        "            ][0].numpy()\n",
        "            decoded_string = (\n",
        "                tf.strings.reduce_join(num_to_char(decoded_pred))\n",
        "                .numpy()\n",
        "                .decode(\"utf-8\")\n",
        "            )\n",
        "            predictions.append(decoded_string)\n",
        "\n",
        "        # Combine predictions\n",
        "        final_prediction = \" \".join(predictions)\n",
        "\n",
        "        print(\"Prediction complete!\")\n",
        "        return final_prediction\n",
        "\n",
        "    except Exception as e:\n",
        "        print(f\"Error processing video: {str(e)}\")\n",
        "        return None"
      ],
      "metadata": {
        "id": "s8xIuxf3lJOw"
      },
      "execution_count": 78,
      "outputs": []
    },
    {
      "cell_type": "code",
      "source": [
        "file_path = '/content/Lip-lense/demo-data/videos/s1/bbaf2n.mpg'\n",
        "predictions = predict_from_video(\n",
        "    file_path,\n",
        "    model)\n",
        "print(predictions)"
      ],
      "metadata": {
        "colab": {
          "base_uri": "https://localhost:8080/"
        },
        "id": "ewr1UsS_m_Za",
        "outputId": "f13f3b70-d400-4b7e-cac8-4838c091dd10"
      },
      "execution_count": 79,
      "outputs": [
        {
          "output_type": "stream",
          "name": "stdout",
          "text": [
            "Loading video: /content/Lip-lense/demo-data/videos/s1/bbaf2n.mpg\n",
            "Error processing video: 'numpy.ndarray' object has no attribute 'numpy'\n",
            "None\n"
          ]
        }
      ]
    },
    {
      "cell_type": "markdown",
      "source": [
        "# TRYING DEEPFACE"
      ],
      "metadata": {
        "id": "AjPb-pGknyeX"
      }
    },
    {
      "cell_type": "code",
      "source": [
        "!pip install deepface"
      ],
      "metadata": {
        "id": "dZkkuUBByI11"
      },
      "execution_count": null,
      "outputs": []
    },
    {
      "cell_type": "code",
      "source": [
        "import cv2\n",
        "from deepface import DeepFace\n",
        "import matplotlib.pyplot as plt\n",
        "\n",
        "def extract_faces_and_display_faces(video_path, display_count=1):\n",
        "    \"\"\"\n",
        "    Extract faces from a video and display the first `display_count` detected faces using matplotlib.\n",
        "\n",
        "    Args:\n",
        "        video_path: Path to the input video file.\n",
        "        display_count: Number of faces to display.\n",
        "\n",
        "    Returns:\n",
        "        List of cropped face frames.\n",
        "    \"\"\"\n",
        "    cap = cv2.VideoCapture(video_path)\n",
        "    processed_faces = []\n",
        "    frame_number = 0\n",
        "    displayed_faces = 0\n",
        "\n",
        "    while True:\n",
        "        ret, frame = cap.read()\n",
        "        if not ret:\n",
        "            break\n",
        "\n",
        "        frame_number += 1\n",
        "        try:\n",
        "            # Use DeepFace to extract faces\n",
        "            face_details = DeepFace.extract_faces(img_path=frame, enforce_detection=False)\n",
        "\n",
        "            for detail in face_details:\n",
        "                # Extract the cropped face\n",
        "                face = detail[\"face\"]\n",
        "\n",
        "                # Resize the face manually if needed\n",
        "                face_resized = cv2.resize(face, (140, 46))  # (width, height)\n",
        "                processed_faces.append(face_resized)\n",
        "\n",
        "                # Display the face using matplotlib\n",
        "                if displayed_faces < display_count:\n",
        "                    plt.imshow(face_resized, cmap=\"gray\")\n",
        "                    plt.title(f\"Detected Face - Frame {frame_number}\")\n",
        "                    plt.axis(\"off\")\n",
        "                    plt.show()\n",
        "                    displayed_faces += 1\n",
        "\n",
        "        except Exception as e:\n",
        "            print(f\"Face detection failed for frame {frame_number}: {str(e)}\")\n",
        "\n",
        "    cap.release()\n",
        "    return processed_faces\n",
        "\n",
        "# Use the function\n",
        "video_path = \"/content/ashick_3secs_outdoor.mp4\"\n",
        "detected_faces = extract_faces_and_display_faces(video_path)\n",
        "\n",
        "print(f\"Total faces detected: {len(detected_faces)}\")\n"
      ],
      "metadata": {
        "colab": {
          "base_uri": "https://localhost:8080/",
          "height": 239
        },
        "id": "CfKHenmJ6KH_",
        "outputId": "b0cebba7-f043-41be-e65f-e737fd877141"
      },
      "execution_count": 104,
      "outputs": [
        {
          "output_type": "display_data",
          "data": {
            "text/plain": [
              "<Figure size 640x480 with 1 Axes>"
            ],
            "image/png": "[encoded data removed]"
          },
          "metadata": {}
        },
        {
          "output_type": "stream",
          "name": "stdout",
          "text": [
            "Total faces detected: 78\n"
          ]
        }
      ]
    },
    {
      "cell_type": "code",
      "source": [
        "# things to do...integrate deepface into the pipeline..\n",
        "# experiment with LLM-check starred repo."
      ],
      "metadata": {
        "id": "325qkGXp7XYM"
      },
      "execution_count": null,
      "outputs": []
    }
  ]
}